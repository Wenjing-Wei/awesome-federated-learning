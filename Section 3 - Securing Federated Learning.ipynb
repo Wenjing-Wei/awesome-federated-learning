{
 "cells": [
  {
   "cell_type": "markdown",
   "metadata": {},
   "source": [
    "# Section: Securing Federated Learning\n",
    "\n",
    "- Lesson 1: Trusted Aggregator\n",
    "- Lesson 2: Intro to Additive Secret Sharing\n",
    "- Lesson 3: Intro to Fixed Precision Encoding\n",
    "- Lesson 4: Secret Sharing + Fixed Precision in PySyft\n",
    "- Final Project: Federated Learning wtih Encrypted Gradient Aggregation"
   ]
  },
  {
   "cell_type": "markdown",
   "metadata": {},
   "source": [
    "# Lesson: Federated Learning with a Trusted Aggregator\n",
    "\n",
    "In the last section, we learned how to train a model on a distributed dataset using Federated Learning. In particular, the last project aggregated gradients directly from one data owner to another. \n",
    "\n",
    "However, while in some cases it could be ideal to do this, what would be even better is to be able to choose a neutral third party to perform the aggregation.\n",
    "\n",
    "As it turns out, we can use the same tools we used previously to accomplish this."
   ]
  },
  {
   "cell_type": "markdown",
   "metadata": {},
   "source": [
    "# Project: Federated Learning with a Trusted Aggregator"
   ]
  },
  {
   "cell_type": "code",
   "execution_count": null,
   "metadata": {},
   "outputs": [],
   "source": [
    "# try this project here!"
   ]
  },
  {
   "cell_type": "code",
   "execution_count": null,
   "metadata": {},
   "outputs": [],
   "source": [
    "import syft as sy\n",
    "import torch as th\n",
    "hook = sy.TorchHook(th)\n",
    "from torch import nn, optim"
   ]
  },
  {
   "cell_type": "code",
   "execution_count": null,
   "metadata": {},
   "outputs": [],
   "source": [
    "bob = sy.VirtualWorker(hook, id='bob')\n",
    "alice = sy.VirtualWorker(hook, id='alice')\n",
    "secure_worker = sy.VirtualWorker(hook, id='secure_worker')"
   ]
  },
  {
   "cell_type": "code",
   "execution_count": null,
   "metadata": {},
   "outputs": [],
   "source": [
    "bob.add_workers([alice, secure_worker])\n",
    "alice.add_workers([bob, secure_worker])\n",
    "secure_worker.add_workers([alice, bob])"
   ]
  },
  {
   "cell_type": "code",
   "execution_count": null,
   "metadata": {},
   "outputs": [],
   "source": [
    "data = th.tensor([[0,0], [0,1], [1,0], [1.,1]], requires_grad=True)\n",
    "target = th.tensor([[0], [0], [1], [1.]], requires_grad=True)"
   ]
  },
  {
   "cell_type": "code",
   "execution_count": null,
   "metadata": {},
   "outputs": [],
   "source": [
    "bobs_data = data[0:2].send(bob)\n",
    "bobs_target = target[0:2].send(bob)"
   ]
  },
  {
   "cell_type": "code",
   "execution_count": null,
   "metadata": {},
   "outputs": [],
   "source": [
    "alices_data = data[2:4].send(alice)\n",
    "alices_target = target[2:4].send(alice)"
   ]
  },
  {
   "cell_type": "code",
   "execution_count": null,
   "metadata": {},
   "outputs": [],
   "source": [
    "model = nn.Linear(2, 1)"
   ]
  },
  {
   "cell_type": "code",
   "execution_count": null,
   "metadata": {},
   "outputs": [],
   "source": [
    "bobs_model = model.copy().send(bob) "
   ]
  },
  {
   "cell_type": "code",
   "execution_count": null,
   "metadata": {},
   "outputs": [],
   "source": [
    "alices_model = model.copy().send(alice)"
   ]
  },
  {
   "cell_type": "code",
   "execution_count": null,
   "metadata": {},
   "outputs": [],
   "source": [
    "bob._objects"
   ]
  },
  {
   "cell_type": "code",
   "execution_count": null,
   "metadata": {},
   "outputs": [],
   "source": [
    "alice._objects"
   ]
  },
  {
   "cell_type": "code",
   "execution_count": null,
   "metadata": {},
   "outputs": [],
   "source": [
    "bobs_opt = optim.SGD(params=bobs_model.parameters(), lr=0.1)"
   ]
  },
  {
   "cell_type": "code",
   "execution_count": null,
   "metadata": {},
   "outputs": [],
   "source": [
    "alices_opt = optim.SGD(params=alices_model.parameters(), lr=0.1)"
   ]
  },
  {
   "cell_type": "code",
   "execution_count": null,
   "metadata": {},
   "outputs": [],
   "source": [
    "bobs_opt.zero_grad()\n",
    "bobs_pred = bobs_model(bobs_data)\n",
    "bobs_loss = ((bobs_pred - bobs_target) ** 2).sum()\n",
    "bobs_loss.backward()\n",
    "\n",
    "bobs_opt.step()\n",
    "bobs_loss = bobs_loss.get().data\n",
    "bobs_loss"
   ]
  },
  {
   "cell_type": "code",
   "execution_count": null,
   "metadata": {},
   "outputs": [],
   "source": [
    "alices_opt.zero_grad()\n",
    "alices_pred = alices_model(alices_data)\n",
    "alices_loss = ((alices_pred - alices_target) ** 2).sum()\n",
    "alices_loss.backward()\n",
    "\n",
    "alices_opt.step()\n",
    "alices_loss = alices_loss.get().data\n",
    "alices_loss"
   ]
  },
  {
   "cell_type": "code",
   "execution_count": null,
   "metadata": {},
   "outputs": [],
   "source": [
    "for i in range(10):\n",
    "    bobs_opt.zero_grad()\n",
    "    bobs_pred = bobs_model(bobs_data)\n",
    "    bobs_loss = ((bobs_pred - bobs_target) ** 2).sum()\n",
    "    bobs_loss.backward()\n",
    "\n",
    "    bobs_opt.step()\n",
    "    bobs_loss = bobs_loss.get().data\n",
    "    bobs_loss\n",
    "    \n",
    "    alices_opt.zero_grad()\n",
    "    alices_pred = alices_model(alices_data)\n",
    "    alices_loss = ((alices_pred - alices_target) ** 2).sum()\n",
    "    alices_loss.backward()\n",
    "\n",
    "    alices_opt.step()\n",
    "    alices_loss = alices_loss.get().data\n",
    "    alices_loss\n",
    "    "
   ]
  },
  {
   "cell_type": "code",
   "execution_count": null,
   "metadata": {},
   "outputs": [],
   "source": [
    "bobs_loss, alices_loss"
   ]
  },
  {
   "cell_type": "code",
   "execution_count": null,
   "metadata": {},
   "outputs": [],
   "source": [
    "alices_model.move(secure_worker)\n",
    "bobs_model.move(secure_worker)"
   ]
  },
  {
   "cell_type": "code",
   "execution_count": null,
   "metadata": {},
   "outputs": [],
   "source": [
    "with th.no_grad():\n",
    "    model.weight.set_(((alices_model.weight + bobs_model.weight) / 2).get())\n",
    "    model.bias.set_(((alices_model.bias + bobs_model.bias) / 2).get())"
   ]
  },
  {
   "cell_type": "code",
   "execution_count": null,
   "metadata": {},
   "outputs": [],
   "source": [
    "for round_iter in range(10):\n",
    "    bobs_model = model.copy().send(bob) \n",
    "    alices_model = model.copy().send(alice)\n",
    "    \n",
    "    bobs_opt = optim.SGD(params=bobs_model.parameters(), lr=0.1)\n",
    "    alices_opt = optim.SGD(params=alices_model.parameters(), lr=0.1)\n",
    "    \n",
    "    for i in range(10):\n",
    "        bobs_opt.zero_grad()\n",
    "        bobs_pred = bobs_model(bobs_data)\n",
    "        bobs_loss = ((bobs_pred - bobs_target) ** 2).sum()\n",
    "        bobs_loss.backward()\n",
    "\n",
    "        bobs_opt.step()\n",
    "        bobs_loss = bobs_loss.get().data\n",
    "        bobs_loss\n",
    "\n",
    "        alices_opt.zero_grad()\n",
    "        alices_pred = alices_model(alices_data)\n",
    "        alices_loss = ((alices_pred - alices_target) ** 2).sum()\n",
    "        alices_loss.backward()\n",
    "\n",
    "        alices_opt.step()\n",
    "        alices_loss = alices_loss.get().data\n",
    "        alices_loss\n",
    "    \n",
    "    alices_model.move(secure_worker)\n",
    "    bobs_model.move(secure_worker)\n",
    "    with th.no_grad():\n",
    "        model.weight.set_(((alices_model.weight + bobs_model.weight) / 2).get())\n",
    "        model.bias.set_(((alices_model.bias + bobs_model.bias) / 2).get())\n",
    "        \n",
    "    #secure_worker.clear_objects()\n",
    "    \n",
    "    print('Bob:' + str(bobs_loss) + ' Alice:' + str(alices_loss))    "
   ]
  },
  {
   "cell_type": "markdown",
   "metadata": {},
   "source": [
    "# Lesson: Intro to Additive Secret Sharing\n",
    "\n",
    "While being able to have a trusted third party to perform the aggregation is certainly nice, in an ideal setting we wouldn't have to trust anyone at all. This is where Cryptography can provide an interesting alterantive. \n",
    "\n",
    "Specifically, we're going to be looking at a simple protocol for Secure Multi-Party Computation called Additive Secret Sharing. This protocol will allow multiple parties (of size 3 or more) to aggregate their gradients without the use of a trusted 3rd party to perform the aggregation. In other words, we can add 3 numbers together from 3 different people without anyone ever learning the inputs of any other actors.\n",
    "\n",
    "Let's start by considering the number 5, which we'll put into a varible x"
   ]
  },
  {
   "cell_type": "code",
   "execution_count": null,
   "metadata": {},
   "outputs": [],
   "source": [
    "x = 5"
   ]
  },
  {
   "cell_type": "code",
   "execution_count": null,
   "metadata": {},
   "outputs": [],
   "source": [
    "x = 5 "
   ]
  },
  {
   "cell_type": "markdown",
   "metadata": {},
   "source": [
    "Let's say we wanted to SHARE the ownership of this number between two people, Alice and Bob. We could split this number into two shares, 2, and 3, and give one to Alice and one to Bob"
   ]
  },
  {
   "cell_type": "code",
   "execution_count": null,
   "metadata": {},
   "outputs": [],
   "source": [
    "bob_x_share = 2\n",
    "alice_x_share = 3\n",
    "\n",
    "decrypted_x = bob_x_share + alice_x_share\n",
    "decrypted_x"
   ]
  },
  {
   "cell_type": "code",
   "execution_count": null,
   "metadata": {},
   "outputs": [],
   "source": [
    "bob_x_share = 2\n",
    "alice_x_share = 3\n",
    "\n",
    "decrypted_x = bob_x_share + alice_x_share\n",
    "decrypted_x"
   ]
  },
  {
   "cell_type": "markdown",
   "metadata": {},
   "source": [
    "Note that neither Bob nor Alice know the value of x. They only know the value of their own SHARE of x. Thus, the true value of X is hidden (i.e., encrypted). \n",
    "\n",
    "The truly amazing thing, however, is that Alice and Bob can still compute using this value! They can perform arithmetic over the hidden value! Let's say Bob and Alice wanted to multiply this value by 2! If each of them multiplied their respective share by 2, then the hidden number between them is also multiplied! Check it out!"
   ]
  },
  {
   "cell_type": "code",
   "execution_count": null,
   "metadata": {},
   "outputs": [],
   "source": [
    "bob_x_share = 2 * 2\n",
    "alice_x_share = 3 * 2\n",
    "\n",
    "decrypted_x = bob_x_share + alice_x_share\n",
    "decrypted_x"
   ]
  },
  {
   "cell_type": "markdown",
   "metadata": {},
   "source": [
    "This even works for addition between two shared values!!"
   ]
  },
  {
   "cell_type": "code",
   "execution_count": null,
   "metadata": {},
   "outputs": [],
   "source": [
    "# encrypted \"5\"\n",
    "bob_x_share = 2\n",
    "alice_x_share = 3\n",
    "\n",
    "# encrypted \"7\"\n",
    "bob_y_share = 5\n",
    "alice_y_share = 2\n",
    "\n",
    "# encrypted 5 + 7\n",
    "bob_z_share = bob_x_share + bob_y_share\n",
    "alice_z_share = alice_x_share + alice_y_share\n",
    "\n",
    "decrypted_z = bob_z_share + alice_z_share\n",
    "decrypted_z"
   ]
  },
  {
   "cell_type": "code",
   "execution_count": null,
   "metadata": {},
   "outputs": [],
   "source": [
    "bob_x_share = 2\n",
    "alice_x_share = 3\n",
    "\n",
    "bob_y_share = 5\n",
    "alice_y_share = 2\n",
    "\n",
    "bob_z_share = bob_x_share + bob_y_share\n",
    "alice_z_share = alice_x_share + alice_y_share\n",
    "\n",
    "decrypted_z = bob_z_share + alice_z_share\n",
    "decrypted_z"
   ]
  },
  {
   "cell_type": "markdown",
   "metadata": {},
   "source": [
    "As you can see, we just added two numbers together while they were still encrypted!!!\n",
    "\n",
    "One small tweak - notice that since all our numbers are positive, it's possible for each share to reveal a little bit of information about the hidden value, namely, it's always greater than the share. Thus, if Bob has a share \"3\" then he knows that the encrypted value is at least 3.\n",
    "\n",
    "This would be quite bad, but can be solved through a simple fix. Decryption happens by summing all the shares together MODULUS some constant. I.e."
   ]
  },
  {
   "cell_type": "code",
   "execution_count": null,
   "metadata": {},
   "outputs": [],
   "source": [
    "x = 5\n",
    "\n",
    "Q = 23740629843760239486723\n",
    "\n",
    "bob_x_share = 23552870267 # <- a random number\n",
    "alice_x_share = Q - bob_x_share + x\n",
    "alice_x_share"
   ]
  },
  {
   "cell_type": "code",
   "execution_count": null,
   "metadata": {},
   "outputs": [],
   "source": [
    "x = 5\n",
    "\n",
    "Q = 23740629843760239486723\n",
    "\n",
    "bob_x_share = 23552870267\n",
    "alice_x_share = Q - bob_x_share + x\n",
    "alice_x_share"
   ]
  },
  {
   "cell_type": "code",
   "execution_count": null,
   "metadata": {},
   "outputs": [],
   "source": [
    "(bob_x_share + alice_x_share) % Q "
   ]
  },
  {
   "cell_type": "code",
   "execution_count": null,
   "metadata": {},
   "outputs": [],
   "source": [
    "(bob_x_share + alice_x_share) % Q"
   ]
  },
  {
   "cell_type": "markdown",
   "metadata": {},
   "source": [
    "So now, as you can see, both shares are wildly larger than the number being shared, meaning that individual shares no longer leak this inforation. However, all the properties we discussed earlier still hold! (addition, encryption, decryption, etc.)"
   ]
  },
  {
   "cell_type": "markdown",
   "metadata": {},
   "source": [
    "# Project: Build Methods for Encrypt, Decrypt, and Add \n",
    "\n",
    "In this project, you must take the lessons we learned in the last section and write general methods for encrypt, decrypt, and add. Store shares for a variable in a tuple like so."
   ]
  },
  {
   "cell_type": "code",
   "execution_count": null,
   "metadata": {},
   "outputs": [],
   "source": [
    "x_share = (2,5,7)"
   ]
  },
  {
   "cell_type": "markdown",
   "metadata": {},
   "source": [
    "Even though normally those shares would be distributed amongst several workers, you can store them in ordered tuples like this for now :)"
   ]
  },
  {
   "cell_type": "code",
   "execution_count": null,
   "metadata": {},
   "outputs": [],
   "source": [
    "# try this project here!"
   ]
  },
  {
   "cell_type": "code",
   "execution_count": null,
   "metadata": {},
   "outputs": [],
   "source": [
    "import random"
   ]
  },
  {
   "cell_type": "code",
   "execution_count": null,
   "metadata": {},
   "outputs": [],
   "source": [
    "def encrypt(x, n_shares=3):\n",
    "    shares = list()\n",
    "    for i in range(n_shares - 1):\n",
    "        shares.append(random.randint(0, Q))\n",
    "    final_value = Q - sum(shares) % Q + x\n",
    "    shares.append(final_value)\n",
    "    return x, tuple(shares)\n",
    "\n",
    "def decrypt(x, shares):\n",
    "    if x > 0:\n",
    "        return sum(shares) % Q\n",
    "    else:\n",
    "        return sum(shares) % Q - Q  "
   ]
  },
  {
   "cell_type": "code",
   "execution_count": null,
   "metadata": {},
   "outputs": [],
   "source": [
    "encrypt(5, n_shares=3)"
   ]
  },
  {
   "cell_type": "code",
   "execution_count": null,
   "metadata": {},
   "outputs": [],
   "source": [
    "decrypt(*encrypt(5, n_shares=3))"
   ]
  },
  {
   "cell_type": "code",
   "execution_count": null,
   "metadata": {},
   "outputs": [],
   "source": [
    "def encrypt(x, n_shares=3):\n",
    "    shares = list()\n",
    "    for i in range(n_shares - 1):\n",
    "        shares.append(random.randint(0, Q))\n",
    "    final_value = x - sum(shares) % Q\n",
    "    shares.append(final_value)\n",
    "    return x, tuple(shares)\n",
    "\n",
    "def decrypt(x, shares):\n",
    "    if x > 0:\n",
    "        return sum(shares) % Q\n",
    "    else:\n",
    "        return sum(shares) % Q - Q"
   ]
  },
  {
   "cell_type": "code",
   "execution_count": null,
   "metadata": {},
   "outputs": [],
   "source": [
    "decrypt(*encrypt(-5, n_shares=3))"
   ]
  },
  {
   "cell_type": "code",
   "execution_count": null,
   "metadata": {},
   "outputs": [],
   "source": [
    "def add(a, b):\n",
    "    c = list()\n",
    "    c.append(a[0] + b[0])\n",
    "    assert(len(a) == len(b))\n",
    "    for i in range(len(a[1])):\n",
    "        c.append(a[1][i]+b[1][i])\n",
    "    return c[0], tuple(c[1:])    "
   ]
  },
  {
   "cell_type": "code",
   "execution_count": null,
   "metadata": {},
   "outputs": [],
   "source": [
    "decrypt(*add(encrypt(5), encrypt(10)))"
   ]
  },
  {
   "cell_type": "code",
   "execution_count": null,
   "metadata": {},
   "outputs": [],
   "source": [
    "x = encrypt(5)\n",
    "x"
   ]
  },
  {
   "cell_type": "code",
   "execution_count": null,
   "metadata": {},
   "outputs": [],
   "source": [
    "y = encrypt(10)\n",
    "y"
   ]
  },
  {
   "cell_type": "code",
   "execution_count": null,
   "metadata": {},
   "outputs": [],
   "source": [
    "z = add(x, y)\n",
    "z"
   ]
  },
  {
   "cell_type": "code",
   "execution_count": null,
   "metadata": {},
   "outputs": [],
   "source": [
    "decrypt(*z)"
   ]
  },
  {
   "cell_type": "code",
   "execution_count": null,
   "metadata": {},
   "outputs": [],
   "source": [
    "decrypt(*encrypt(15))"
   ]
  },
  {
   "cell_type": "markdown",
   "metadata": {},
   "source": [
    "# Lesson: Intro to Fixed Precision Encoding\n",
    "\n",
    "As you may remember, our goal is to aggregate gradients using this new Secret Sharing technique. However, the protocol we've just explored in the last section uses positive integers. However, our neural network weights are NOT integers. Instead, our weights are decimals (floating point numbers).\n",
    "\n",
    "Not a huge deal! We just need to use a fixed precision encoding, which lets us do computation over decimal numbers using integers!"
   ]
  },
  {
   "cell_type": "code",
   "execution_count": null,
   "metadata": {},
   "outputs": [],
   "source": [
    "BASE=10\n",
    "PRECISION=4"
   ]
  },
  {
   "cell_type": "code",
   "execution_count": null,
   "metadata": {},
   "outputs": [],
   "source": [
    "BASE = 10\n",
    "PRECISION = 4"
   ]
  },
  {
   "cell_type": "code",
   "execution_count": null,
   "metadata": {},
   "outputs": [],
   "source": [
    "def encode(x):\n",
    "    return int(x * BASE ** PRECISION) % Q\n",
    "\n",
    "def decode(x):\n",
    "    return (x if x <= Q/2 else x - Q) / BASE ** PRECISION"
   ]
  },
  {
   "cell_type": "code",
   "execution_count": null,
   "metadata": {},
   "outputs": [],
   "source": [
    "encode(3.5)"
   ]
  },
  {
   "cell_type": "code",
   "execution_count": null,
   "metadata": {},
   "outputs": [],
   "source": [
    "decode(35000)"
   ]
  },
  {
   "cell_type": "code",
   "execution_count": null,
   "metadata": {},
   "outputs": [],
   "source": [
    "decode(35000)"
   ]
  },
  {
   "cell_type": "code",
   "execution_count": null,
   "metadata": {},
   "outputs": [],
   "source": [
    "Q"
   ]
  },
  {
   "cell_type": "code",
   "execution_count": null,
   "metadata": {},
   "outputs": [],
   "source": [
    "decode(encode(-0.5))"
   ]
  },
  {
   "cell_type": "code",
   "execution_count": null,
   "metadata": {},
   "outputs": [],
   "source": [
    "decode(5000 + 5000)"
   ]
  },
  {
   "cell_type": "code",
   "execution_count": null,
   "metadata": {},
   "outputs": [],
   "source": [
    "x = encrypt(encode(5.5))\n",
    "y = encrypt(encode(2.3))\n",
    "z = add(x,y)\n",
    "decode(decrypt(*z))"
   ]
  },
  {
   "cell_type": "code",
   "execution_count": null,
   "metadata": {},
   "outputs": [],
   "source": [
    "x = encrypt(encode(5.5))\n",
    "y = encrypt(encode(2.3))\n",
    "z = add(x, y)\n",
    "decode(decrypt(*z))"
   ]
  },
  {
   "cell_type": "markdown",
   "metadata": {},
   "source": [
    "# Lesson: Secret Sharing + Fixed Precision in PySyft\n",
    "\n",
    "While writing things from scratch is certainly educational, PySyft makes a great deal of this much easier for us through its abstractions."
   ]
  },
  {
   "cell_type": "code",
   "execution_count": null,
   "metadata": {},
   "outputs": [],
   "source": [
    "bob = bob.clear_objects()\n",
    "alice = alice.clear_objects()\n",
    "secure_worker = secure_worker.clear_objects()"
   ]
  },
  {
   "cell_type": "code",
   "execution_count": null,
   "metadata": {},
   "outputs": [],
   "source": [
    "import torch as th\n",
    "import torch\n",
    "import syft as sy\n",
    "\n",
    "hook  = sy.TorchHook(th)"
   ]
  },
  {
   "cell_type": "code",
   "execution_count": null,
   "metadata": {},
   "outputs": [],
   "source": [
    "bob = sy.VirtualWorker(hook, id='bob')\n",
    "alice = sy.VirtualWorker(hook, id='alice')\n",
    "secure_worker = sy.VirtualWorker(hook, id='secure worker') "
   ]
  },
  {
   "cell_type": "code",
   "execution_count": null,
   "metadata": {},
   "outputs": [],
   "source": [
    "bob = bob.clear_objects()\n",
    "alice = alice.clear_objects()\n",
    "secure_worker = secure_worker.clear_objects()"
   ]
  },
  {
   "cell_type": "code",
   "execution_count": null,
   "metadata": {},
   "outputs": [],
   "source": [
    "x = th.tensor([1,2,3,4,5])"
   ]
  },
  {
   "cell_type": "code",
   "execution_count": null,
   "metadata": {},
   "outputs": [],
   "source": [
    "x = th.tensor([1,2,3,4,5])\n",
    "x"
   ]
  },
  {
   "cell_type": "markdown",
   "metadata": {},
   "source": [
    "### Secret Sharing Using PySyft\n",
    "\n",
    "We can share using the simple .share() method!"
   ]
  },
  {
   "cell_type": "code",
   "execution_count": null,
   "metadata": {},
   "outputs": [],
   "source": [
    "x = x.share(bob, alice, secure_worker)"
   ]
  },
  {
   "cell_type": "code",
   "execution_count": null,
   "metadata": {},
   "outputs": [],
   "source": [
    "x = x.share(bob, alice, secure_worker)\n",
    "x"
   ]
  },
  {
   "cell_type": "code",
   "execution_count": null,
   "metadata": {},
   "outputs": [],
   "source": [
    "bob._objects"
   ]
  },
  {
   "cell_type": "markdown",
   "metadata": {},
   "source": [
    "and as you can see, Bob now has one of the shares of x! Furthermore, we can still call addition in this state, and PySyft will automatically perform the remote execution for us!"
   ]
  },
  {
   "cell_type": "code",
   "execution_count": null,
   "metadata": {},
   "outputs": [],
   "source": [
    "y = x + x"
   ]
  },
  {
   "cell_type": "code",
   "execution_count": null,
   "metadata": {},
   "outputs": [],
   "source": [
    "y = x + x"
   ]
  },
  {
   "cell_type": "code",
   "execution_count": null,
   "metadata": {},
   "outputs": [],
   "source": [
    "y"
   ]
  },
  {
   "cell_type": "code",
   "execution_count": null,
   "metadata": {},
   "outputs": [],
   "source": [
    "y.get()"
   ]
  },
  {
   "cell_type": "code",
   "execution_count": null,
   "metadata": {},
   "outputs": [],
   "source": [
    "x.get()"
   ]
  },
  {
   "cell_type": "markdown",
   "metadata": {},
   "source": [
    "### Fixed Precision using PySyft\n",
    "\n",
    "We can also convert a tensor to fixed precision using .fix_precision()"
   ]
  },
  {
   "cell_type": "code",
   "execution_count": null,
   "metadata": {},
   "outputs": [],
   "source": [
    "x = th.tensor([0.1,0.2,0.3])"
   ]
  },
  {
   "cell_type": "code",
   "execution_count": null,
   "metadata": {},
   "outputs": [],
   "source": [
    "x = th.tensor([0.1,0.2,0.3])"
   ]
  },
  {
   "cell_type": "code",
   "execution_count": null,
   "metadata": {},
   "outputs": [],
   "source": [
    "x"
   ]
  },
  {
   "cell_type": "code",
   "execution_count": null,
   "metadata": {},
   "outputs": [],
   "source": [
    "x"
   ]
  },
  {
   "cell_type": "code",
   "execution_count": null,
   "metadata": {},
   "outputs": [],
   "source": [
    "x = x.fix_prec()"
   ]
  },
  {
   "cell_type": "code",
   "execution_count": null,
   "metadata": {},
   "outputs": [],
   "source": [
    "x = x.fix_prec()\n",
    "x"
   ]
  },
  {
   "cell_type": "code",
   "execution_count": null,
   "metadata": {},
   "outputs": [],
   "source": [
    "x.child.child"
   ]
  },
  {
   "cell_type": "code",
   "execution_count": null,
   "metadata": {},
   "outputs": [],
   "source": [
    "x.child.child"
   ]
  },
  {
   "cell_type": "code",
   "execution_count": null,
   "metadata": {},
   "outputs": [],
   "source": [
    "y = x + x"
   ]
  },
  {
   "cell_type": "code",
   "execution_count": null,
   "metadata": {},
   "outputs": [],
   "source": [
    "y = x + x\n",
    "y"
   ]
  },
  {
   "cell_type": "code",
   "execution_count": null,
   "metadata": {},
   "outputs": [],
   "source": [
    "y = y.float_prec()\n",
    "y"
   ]
  },
  {
   "cell_type": "code",
   "execution_count": null,
   "metadata": {},
   "outputs": [],
   "source": [
    "y = y.float_prec()\n",
    "y"
   ]
  },
  {
   "cell_type": "markdown",
   "metadata": {},
   "source": [
    "### Shared Fixed Precision\n",
    "\n",
    "And of course, we can combine the two!"
   ]
  },
  {
   "cell_type": "code",
   "execution_count": null,
   "metadata": {},
   "outputs": [],
   "source": [
    "x = th.tensor([0.1, 0.2, 0.3])"
   ]
  },
  {
   "cell_type": "code",
   "execution_count": null,
   "metadata": {},
   "outputs": [],
   "source": [
    "x = th.tensor([0.1, 0.2, 0.3])\n",
    "x"
   ]
  },
  {
   "cell_type": "code",
   "execution_count": null,
   "metadata": {},
   "outputs": [],
   "source": [
    "x = x.fix_prec().share(bob, alice, secure_worker)"
   ]
  },
  {
   "cell_type": "code",
   "execution_count": null,
   "metadata": {},
   "outputs": [],
   "source": [
    "x = x.fix_prec().share(bob, alice, secure_worker)\n",
    "x"
   ]
  },
  {
   "cell_type": "code",
   "execution_count": null,
   "metadata": {},
   "outputs": [],
   "source": [
    "y = x + x"
   ]
  },
  {
   "cell_type": "code",
   "execution_count": null,
   "metadata": {},
   "outputs": [],
   "source": [
    "y = x + x\n",
    "y"
   ]
  },
  {
   "cell_type": "code",
   "execution_count": null,
   "metadata": {},
   "outputs": [],
   "source": [
    "y.get().float_prec()"
   ]
  },
  {
   "cell_type": "code",
   "execution_count": null,
   "metadata": {},
   "outputs": [],
   "source": [
    "y.get().float_prec()"
   ]
  },
  {
   "cell_type": "code",
   "execution_count": null,
   "metadata": {},
   "outputs": [],
   "source": [
    "x.get().float_prec()"
   ]
  },
  {
   "cell_type": "code",
   "execution_count": null,
   "metadata": {},
   "outputs": [],
   "source": [
    "x = th.tensor([0.1, 0.2, 0.3])\n",
    "x = x.fix_prec().share(bob, alice, secure_worker)\n",
    "y = th.tensor([0.2, 0.3, 0.4])\n",
    "y = y.fix_prec().share(bob, alice, secure_worker)\n",
    "z = x + y\n",
    "x.get().float_prec(), y.get().float_prec(), z.get().float_prec()"
   ]
  },
  {
   "cell_type": "code",
   "execution_count": null,
   "metadata": {},
   "outputs": [],
   "source": [
    "x = th.tensor([0.1, 0.2, 0.3])\n",
    "x = x.fix_prec(base=10, precision_fractional=4)\n",
    "x"
   ]
  },
  {
   "cell_type": "markdown",
   "metadata": {},
   "source": [
    "Make sure to make the point that people can see the model averages in the clear."
   ]
  },
  {
   "cell_type": "markdown",
   "metadata": {},
   "source": [
    "# Final Project: Federated Learning with Encrypted Gradient Aggregation"
   ]
  },
  {
   "cell_type": "code",
   "execution_count": 4,
   "metadata": {},
   "outputs": [],
   "source": [
    "import syft as sy\n",
    "import torch as th\n",
    "hook = sy.TorchHook(th)\n",
    "from torch import nn, optim\n",
    "import numpy as np\n",
    "import torch"
   ]
  },
  {
   "cell_type": "code",
   "execution_count": 5,
   "metadata": {},
   "outputs": [],
   "source": [
    "bob = sy.VirtualWorker(hook, id='bob')\n",
    "alice = sy.VirtualWorker(hook, id='alice')\n",
    "server_1 = sy.VirtualWorker(hook, id='server_1')\n",
    "server_2 = sy.VirtualWorker(hook, id='server_2')\n",
    "server_3 = sy.VirtualWorker(hook, id='server_3')"
   ]
  },
  {
   "cell_type": "code",
   "execution_count": 6,
   "metadata": {},
   "outputs": [
    {
     "data": {
      "text/plain": [
       "<VirtualWorker id:server_3 #objects:0>"
      ]
     },
     "execution_count": 6,
     "metadata": {},
     "output_type": "execute_result"
    }
   ],
   "source": [
    "bob.clear_objects()\n",
    "alice.clear_objects()\n",
    "server_1.clear_objects()\n",
    "server_2.clear_objects()\n",
    "server_3.clear_objects()"
   ]
  },
  {
   "cell_type": "code",
   "execution_count": 7,
   "metadata": {},
   "outputs": [
    {
     "name": "stderr",
     "output_type": "stream",
     "text": [
      "Worker alice already exists. Replacing old worker which could cause                     unexpected behavior\n",
      "Worker server_1 already exists. Replacing old worker which could cause                     unexpected behavior\n",
      "Worker server_2 already exists. Replacing old worker which could cause                     unexpected behavior\n",
      "Worker server_3 already exists. Replacing old worker which could cause                     unexpected behavior\n",
      "Worker bob already exists. Replacing old worker which could cause                     unexpected behavior\n",
      "Worker server_1 already exists. Replacing old worker which could cause                     unexpected behavior\n",
      "Worker server_2 already exists. Replacing old worker which could cause                     unexpected behavior\n",
      "Worker server_3 already exists. Replacing old worker which could cause                     unexpected behavior\n",
      "Worker alice already exists. Replacing old worker which could cause                     unexpected behavior\n",
      "Worker bob already exists. Replacing old worker which could cause                     unexpected behavior\n",
      "Worker server_2 already exists. Replacing old worker which could cause                     unexpected behavior\n",
      "Worker server_3 already exists. Replacing old worker which could cause                     unexpected behavior\n",
      "Worker alice already exists. Replacing old worker which could cause                     unexpected behavior\n",
      "Worker bob already exists. Replacing old worker which could cause                     unexpected behavior\n",
      "Worker server_1 already exists. Replacing old worker which could cause                     unexpected behavior\n",
      "Worker server_3 already exists. Replacing old worker which could cause                     unexpected behavior\n",
      "Worker alice already exists. Replacing old worker which could cause                     unexpected behavior\n",
      "Worker bob already exists. Replacing old worker which could cause                     unexpected behavior\n",
      "Worker server_1 already exists. Replacing old worker which could cause                     unexpected behavior\n",
      "Worker server_2 already exists. Replacing old worker which could cause                     unexpected behavior\n"
     ]
    },
    {
     "data": {
      "text/plain": [
       "<VirtualWorker id:server_3 #objects:0>"
      ]
     },
     "execution_count": 7,
     "metadata": {},
     "output_type": "execute_result"
    }
   ],
   "source": [
    "bob.add_workers([alice, server_1, server_2, server_3])\n",
    "alice.add_workers([bob, server_1, server_2, server_3])\n",
    "server_1.add_workers([alice, bob, server_2, server_3])\n",
    "server_2.add_workers([alice, bob, server_1, server_3])\n",
    "server_3.add_workers([alice, bob, server_1, server_2])"
   ]
  },
  {
   "cell_type": "code",
   "execution_count": 8,
   "metadata": {},
   "outputs": [
    {
     "data": {
      "text/plain": [
       "'\\ndata = np.random.rand(10000, 2)\\ntarget = np.sum(data, axis=1) + 1\\ndata = th.tensor(data, dtype=th.float32, requires_grad=True)\\ntarget = th.tensor(target, dtype=th.float32, requires_grad=True).reshape(len(data), -1)\\n'"
      ]
     },
     "execution_count": 8,
     "metadata": {},
     "output_type": "execute_result"
    }
   ],
   "source": [
    "'''\n",
    "data = np.random.rand(10000, 2)\n",
    "target = np.sum(data, axis=1) + 1\n",
    "data = th.tensor(data, dtype=th.float32, requires_grad=True)\n",
    "target = th.tensor(target, dtype=th.float32, requires_grad=True).reshape(len(data), -1)\n",
    "'''"
   ]
  },
  {
   "cell_type": "code",
   "execution_count": 9,
   "metadata": {},
   "outputs": [],
   "source": [
    "data = torch.load('data.pt')\n",
    "target = torch.load('target.pt')\n",
    "\n",
    "data_train = data[0:6000]\n",
    "target_train = target[0:6000]\n",
    "\n",
    "data_val = data[6000:8000]\n",
    "target_val = target[6000:8000]\n",
    "\n",
    "data_test = data[8000:10000]\n",
    "target_test = target[8000:10000]\n",
    "\n",
    "bobs_data = data_train[0:3000].send(bob)\n",
    "bobs_target = target_train[0:3000].send(bob)\n",
    "\n",
    "alices_data = data_train[3000:6000].send(alice)\n",
    "alices_target = target_train[3000:6000].send(alice)\n"
   ]
  },
  {
   "cell_type": "code",
   "execution_count": null,
   "metadata": {},
   "outputs": [],
   "source": [
    "data = th.tensor([[0,0], [0,1], [1,0], [1.,1]], requires_grad=True)\n",
    "target = th.tensor([[0], [0], [1], [1.]], requires_grad=True)\n",
    "\n",
    "bobs_data = data[0:2].send(bob)\n",
    "bobs_target = target[0:2].send(bob)\n",
    "\n",
    "alices_data = data[2:4].send(alice)\n",
    "alices_target = target[2:4].send(alice)"
   ]
  },
  {
   "cell_type": "code",
   "execution_count": null,
   "metadata": {},
   "outputs": [],
   "source": [
    "# FedAvg algorithm -- model averaging\n",
    "model = nn.Linear(2, 1)\n",
    "loss_ModAvg = []\n",
    "for round_iter in range(100):\n",
    "    bobs_model = model.copy().send(bob) \n",
    "    alices_model = model.copy().send(alice)\n",
    "    \n",
    "    bobs_opt = optim.SGD(params=bobs_model.parameters(), lr=0.1)\n",
    "    alices_opt = optim.SGD(params=alices_model.parameters(), lr=0.1)\n",
    "    \n",
    "    for i in range(10):\n",
    "        bobs_opt.zero_grad()\n",
    "        bobs_pred = bobs_model(bobs_data)\n",
    "        bobs_loss = ((bobs_pred - bobs_target) ** 2).sum() / len(bobs_data)\n",
    "        bobs_loss.backward()\n",
    "                \n",
    "        bobs_opt.step()                      \n",
    "        bobs_loss = bobs_loss.get().data\n",
    "        bobs_loss\n",
    "\n",
    "        alices_opt.zero_grad()\n",
    "        alices_pred = alices_model(alices_data)\n",
    "        alices_loss = ((alices_pred - alices_target) ** 2).sum() / len(alices_data)\n",
    "        alices_loss.backward()\n",
    "\n",
    "        alices_opt.step()               \n",
    "        alices_loss = alices_loss.get().data\n",
    "        alices_loss    \n",
    "      \n",
    "    #with th.no_grad():\n",
    "    bobs_model.get()\n",
    "    alices_model.get()\n",
    "    \n",
    "    with th.no_grad():\n",
    "        for param, alices_param, bobs_param in zip(model.parameters(), alices_model.parameters(), bobs_model.parameters()):\n",
    "            param.set_((alices_param + bobs_param) / 2)\n",
    "                    \n",
    "    #secure_worker.clear_objects()\n",
    "    \n",
    "    print('Bob:' + str(bobs_loss) + ' Alice:' + str(alices_loss))    \n",
    "    pred = model(data_train)\n",
    "    loss = ((pred - target_train) ** 2).sum() / len(data_train)\n",
    "    loss = loss.data\n",
    "    loss_ModAvg.append(loss.item())"
   ]
  },
  {
   "cell_type": "code",
   "execution_count": null,
   "metadata": {},
   "outputs": [],
   "source": [
    "# FedAvg algorithm -- gradient averaging\n",
    "model = nn.Linear(2, 1)\n",
    "loss_GradAvg = []\n",
    "for round_iter in range(10000):\n",
    "    bobs_model = model.copy().send(bob) \n",
    "    alices_model = model.copy().send(alice)\n",
    "    \n",
    "    bobs_opt = optim.SGD(params=bobs_model.parameters(), lr=0.1)\n",
    "    alices_opt = optim.SGD(params=alices_model.parameters(), lr=0.1)\n",
    "    #opt = optim.SGD(params=model.parameters(), lr=0.1)\n",
    "    \n",
    "    #for i in range(10):\n",
    "    bobs_opt.zero_grad()\n",
    "    bobs_pred = bobs_model(bobs_data)\n",
    "    bobs_loss = ((bobs_pred - bobs_target) ** 2).sum() / len(bobs_data)\n",
    "    bobs_loss.backward()    \n",
    "\n",
    "    #bobs_opt.step()\n",
    "    bobs_loss = bobs_loss.get().data\n",
    "    bobs_loss\n",
    "\n",
    "    alices_opt.zero_grad()\n",
    "    alices_pred = alices_model(alices_data)\n",
    "    alices_loss = ((alices_pred - alices_target) ** 2).sum() / len(alices_data)\n",
    "    alices_loss.backward()\n",
    "    \n",
    "    #alices_opt.step()\n",
    "    alices_loss = alices_loss.get().data\n",
    "    alices_loss\n",
    "               \n",
    "    #add noise sampled from laplace distribution \n",
    "    noise = np.random.laplace(0, 1, 1) / len(alices_data)\n",
    "    noise = th.tensor(noise, dtype=torch.float32)\n",
    "    alices_model.weight.grad_noise = alices_model.weight.grad + noise.copy().send(alice)\n",
    "    alices_model.bias.grad_noise = alices_model.bias.grad + noise.copy().send(alice)\n",
    "    noise = np.random.laplace(0, 1, 1) / len(bobs_data)\n",
    "    noise = th.tensor(noise, dtype=torch.float32)\n",
    "    bobs_model.weight.grad_noise = bobs_model.weight.grad + noise.copy().send(bob)\n",
    "    bobs_model.bias.grad_noise = bobs_model.bias.grad + noise.copy().send(bob)    \n",
    "    \n",
    "    bobs_model.get()\n",
    "    alices_model.get()  \n",
    "    \n",
    "    alices_model.weight.grad = alices_model.weight.grad_noise.get()\n",
    "    alices_model.bias.grad = alices_model.bias.grad_noise.get()\n",
    "    bobs_model.weight.grad = bobs_model.weight.grad_noise.get()\n",
    "    bobs_model.bias.grad = bobs_model.bias.grad_noise.get()      \n",
    "        \n",
    "    for alices_param, bobs_param in zip(alices_model.parameters(), bobs_model.parameters()):\n",
    "        alices_param.grad = (alices_param.grad.fix_precision(base=10, precision_fractional=4).share(server_1, server_2, server_3) + bobs_param.grad.fix_precision(base=10, precision_fractional=4).share(server_1, server_2, server_3)).get().float_precision() / 2\n",
    "        bobs_param.grad = (alices_param.grad.fix_precision(base=10, precision_fractional=4).share(server_1, server_2, server_3) + bobs_param.grad.fix_precision(base=10, precision_fractional=4).share(server_1, server_2, server_3)).get().float_precision() / 2\n",
    "\n",
    "\n",
    "    bobs_opt.step()\n",
    "    alices_opt.step()\n",
    "    \n",
    "    #secure_worker.clear_objects()\n",
    "    \n",
    "    print('Bob:' + str(bobs_loss) + ' Alice:' + str(alices_loss))\n",
    "    model = bobs_model.copy()\n",
    "    pred = model(data_train)\n",
    "    loss = ((pred - target_train) ** 2).sum() / len(data_train)\n",
    "    loss = loss.data\n",
    "    loss_GradAvg.append(loss.item())"
   ]
  },
  {
   "cell_type": "code",
   "execution_count": 10,
   "metadata": {},
   "outputs": [
    {
     "name": "stdout",
     "output_type": "stream",
     "text": [
      "1 train loss:tensor(3.6272) val loss:tensor(3.6226)\n"
     ]
    }
   ],
   "source": [
    "# FedAvg algorithm -- gradient averaging (LDP + MPC)\n",
    "# epsilon = 1.0\n",
    "model = nn.Linear(2, 1)\n",
    "train_loss_GradAvg = []\n",
    "val_loss_GradAvg = []\n",
    "bobs_model_weight_grad = []\n",
    "bobs_model_bias_grad = []\n",
    "alices_model_weight_grad = []\n",
    "alices_model_bias_grad = []\n",
    "for round_iter in range(2000):\n",
    "    bobs_model = model.copy().send(bob)\n",
    "    alices_model = model.copy().send(alice)\n",
    "    opt = optim.SGD(params=model.parameters(), lr=0.1 * 100)\n",
    "\n",
    "    bobs_weight_grad = 0\n",
    "    bobs_bias_grad = 0\n",
    "    for example, target in zip(bobs_data, bobs_target):\n",
    "        weight_grad = th.mm(th.mm(example.copy().get().view(1, 2), bobs_model.weight.copy().get().transpose(1, 0)) + bobs_model.bias.copy().get() - target.copy().get(), example.copy().get().view(1, 2)) * 2\n",
    "        weight_grad = weight_grad.data\n",
    "        weight_grad = weight_grad / max(1, weight_grad.norm(1) / 3.9219e-04)\n",
    "        bias_grad = (th.mm(example.copy().get().view(1, 2), bobs_model.weight.copy().get().transpose(1, 0)) + bobs_model.bias.copy().get() - target.copy().get()) * 2\n",
    "        bias_grad = bias_grad.data.view(-1)\n",
    "        bias_grad = bias_grad / max(1, bias_grad.norm(1) / 4.4978e-04)\n",
    "        bobs_weight_grad += weight_grad\n",
    "        bobs_bias_grad += bias_grad\n",
    "\n",
    "    alices_weight_grad = 0\n",
    "    alices_bias_grad = 0\n",
    "    for example, target in zip(alices_data, alices_target):\n",
    "        weight_grad = th.mm(th.mm(example.copy().get().view(1, 2), alices_model.weight.copy().get().transpose(1, 0)) + alices_model.bias.copy().get() - target.copy().get(), example.copy().get().view(1, 2)) * 2\n",
    "        weight_grad = weight_grad.data\n",
    "        weight_grad = weight_grad / max(1, weight_grad.norm(1) / 3.9020e-04)\n",
    "        bias_grad = (th.mm(example.copy().get().view(1, 2), alices_model.weight.copy().get().transpose(1, 0)) + alices_model.bias.copy().get() - target.copy().get()) * 2\n",
    "        bias_grad = bias_grad.data.view(-1)\n",
    "        bias_grad = bias_grad / max(1, bias_grad.norm(1) / 4.3543e-04)\n",
    "        alices_weight_grad += weight_grad\n",
    "        alices_bias_grad += bias_grad\n",
    "\n",
    "    bobs_model.get()\n",
    "    alices_model.get()\n",
    "\n",
    "    bobs_model.weight.grad = (bobs_weight_grad + th.tensor(np.random.laplace(0, 3.9219e-04 / 1.0, 2).reshape(1, 2), dtype=torch.float32)) / len(bobs_data)\n",
    "    bobs_model.bias.grad = (bobs_bias_grad + th.tensor(np.random.laplace(0, 4.4978e-04 / 1.0, 1), dtype=torch.float32)) / len(bobs_data)\n",
    "    alices_model.weight.grad = (alices_weight_grad + th.tensor(np.random.laplace(0, 3.9020e-04 / 1.0, 2).reshape(1, 2), dtype=torch.float32)) / len(alices_data)\n",
    "    alices_model.bias.grad = (alices_bias_grad + th.tensor(np.random.laplace(0, 4.3543e-04 / 1.0, 1), dtype=torch.float32)) / len(alices_data)\n",
    "    bobs_model_weight_grad.append(bobs_model.weight.grad)\n",
    "    bobs_model_bias_grad.append(bobs_model.bias.grad)\n",
    "    alices_model_weight_grad.append(alices_model.weight.grad)\n",
    "    alices_model_bias_grad.append(alices_model.bias.grad)\n",
    "    \n",
    "    for param, alices_param, bobs_param in zip(model.parameters(), alices_model.parameters(), bobs_model.parameters()):\n",
    "        param.grad = (alices_param.grad + bobs_param.grad) / 2\n",
    "\n",
    "    opt.step()\n",
    "\n",
    "    pred = model(data_train)\n",
    "    loss = ((pred - target_train) ** 2).sum() / len(data_train)\n",
    "    train_loss = loss.data\n",
    "    train_loss_GradAvg.append(round(train_loss.item(), 4))\n",
    "    pred = model(data_val)\n",
    "    loss = ((pred - target_val) ** 2).sum() / len(data_val)\n",
    "    val_loss = loss.data\n",
    "    val_loss_GradAvg.append(round(val_loss.item(), 4))\n",
    "    print(str(round_iter+1) + ' train loss:' + str(train_loss) + ' val loss:' + str(val_loss))"
   ]
  },
  {
   "cell_type": "code",
   "execution_count": null,
   "metadata": {},
   "outputs": [
    {
     "ename": "NameError",
     "evalue": "name 'bobs_model_weight_grad' is not defined",
     "output_type": "error",
     "traceback": [
      "\u001b[0;31m---------------------------------------------------------------------------\u001b[0m",
      "\u001b[0;31mNameError\u001b[0m                                 Traceback (most recent call last)",
      "\u001b[0;32m/tmp/ipykernel_1630/1852364233.py\u001b[0m in \u001b[0;36m<module>\u001b[0;34m\u001b[0m\n\u001b[0;32m----> 1\u001b[0;31m \u001b[0mbobs_model_weight_grad\u001b[0m\u001b[0;34m\u001b[0m\u001b[0;34m\u001b[0m\u001b[0m\n\u001b[0m",
      "\u001b[0;31mNameError\u001b[0m: name 'bobs_model_weight_grad' is not defined"
     ]
    }
   ],
   "source": [
    "bobs_model_weight_grad "
   ]
  },
  {
   "cell_type": "code",
   "execution_count": null,
   "metadata": {},
   "outputs": [],
   "source": [
    "bobs_model_bias_grad"
   ]
  },
  {
   "cell_type": "code",
   "execution_count": null,
   "metadata": {},
   "outputs": [],
   "source": [
    "alices_model_weight_grad"
   ]
  },
  {
   "cell_type": "code",
   "execution_count": null,
   "metadata": {},
   "outputs": [],
   "source": [
    "alices_model_bias_grad"
   ]
  },
  {
   "cell_type": "code",
   "execution_count": 33,
   "metadata": {},
   "outputs": [
    {
     "name": "stdout",
     "output_type": "stream",
     "text": [
      "tensor([[-0.2091, -0.6363]])\n",
      "tensor([[-0.2091, -0.6363]])\n",
      "tensor([-2.0768])\n",
      "tensor([-2.0768])\n"
     ]
    }
   ],
   "source": [
    "# FedAvg algorithm -- gradient averaging\n",
    "# to get gradient norm bound C (L1 norm, sensitivity)\n",
    "model = nn.Linear(2, 1)\n",
    "criterion = nn.MSELoss()\n",
    "train_loss_GradAvg = []\n",
    "val_loss_GradAvg = []\n",
    "bobs_weight_grad = []\n",
    "bobs_bias_grad = []\n",
    "alices_weight_grad = []\n",
    "alices_bias_grad = []\n",
    "for round_iter in range(1200):\n",
    "    bobs_model = model.copy().send(bob)\n",
    "    alices_model = model.copy().send(alice)\n",
    "\n",
    "    bobs_opt = optim.SGD(params=bobs_model.parameters(), lr=0.1)\n",
    "    alices_opt = optim.SGD(params=alices_model.parameters(), lr=0.1)\n",
    "    #opt = optim.SGD(params=model.parameters(), lr=0.1)\n",
    "\n",
    "    for example, target in zip(bobs_data, bobs_target):\n",
    "        weight_grad = th.mm(th.mm(example.copy().get().view(1, 2), bobs_model.weight.copy().get().transpose(1, 0)) + bobs_model.bias.copy().get() - target.copy().get(), example.copy().get().view(1, 2)) * 2\n",
    "        weight_grad = weight_grad.data\n",
    "        print(weight_grad)\n",
    "        output = model(example.copy().get())\n",
    "        loss = criterion(output, target.copy().get())\n",
    "        loss.backward()\n",
    "        print(model.weight.grad.copy())\n",
    "        #break\n",
    "        bias_grad = (th.mm(example.copy().get().view(1, 2), bobs_model.weight.copy().get().transpose(1, 0)) + bobs_model.bias.copy().get() - target.copy().get()) * 2\n",
    "        bias_grad = bias_grad.data.view(-1)\n",
    "        print(bias_grad)\n",
    "        print(model.bias.grad.copy())\n",
    "        break\n",
    "        bobs_weight_grad.append(weight_grad)\n",
    "        bobs_bias_grad.append(bias_grad)\n",
    "    break\n",
    "    #bobs_opt.step()\n",
    "    bobs_opt.zero_grad()\n",
    "    bobs_pred = bobs_model(bobs_data)\n",
    "    bobs_loss = ((bobs_pred - bobs_target) ** 2).sum() / len(bobs_data)\n",
    "    bobs_loss.backward()\n",
    "    bobs_loss = bobs_loss.get().data\n",
    "    bobs_loss\n",
    "\n",
    "    for example, target in zip(alices_data, alices_target):\n",
    "        weight_grad = th.mm(th.mm(example.copy().get().view(1, 2), alices_model.weight.copy().get().transpose(1, 0)) + alices_model.bias.copy().get() - target.copy().get(), example.copy().get().view(1, 2)) * 2\n",
    "        weight_grad = weight_grad.data\n",
    "        bias_grad = (th.mm(example.copy().get().view(1, 2), alices_model.weight.copy().get().transpose(1, 0)) + alices_model.bias.copy().get() - target.copy().get()) * 2\n",
    "        bias_grad = bias_grad.data.view(-1)\n",
    "        alices_weight_grad.append(weight_grad)\n",
    "        alices_bias_grad.append(bias_grad)\n",
    "\n",
    "    #alices_opt.step()\n",
    "    alices_opt.zero_grad()\n",
    "    alices_pred = alices_model(alices_data)\n",
    "    alices_loss = ((alices_pred - alices_target) ** 2).sum() / len(alices_data)\n",
    "    alices_loss.backward()\n",
    "    alices_loss = alices_loss.get().data\n",
    "    alices_loss\n",
    "\n",
    "    #add noise sampled from laplace distribution\n",
    "    bobs_model.get()\n",
    "    alices_model.get()\n",
    "\n",
    "    for alices_param, bobs_param in zip(alices_model.parameters(), bobs_model.parameters()):\n",
    "        t = (alices_param.grad + bobs_param.grad) / 2\n",
    "        alices_param.grad = t\n",
    "        bobs_param.grad = t\n",
    "\n",
    "    bobs_opt.step()\n",
    "    alices_opt.step()\n",
    "\n",
    "    model = bobs_model.copy()\n",
    "    pred = model(data_train)\n",
    "    loss = ((pred - target_train) ** 2).sum() / len(data_train)\n",
    "    train_loss = loss.data\n",
    "    train_loss_GradAvg.append(round(train_loss.item(), 4))\n",
    "    pred = model(data_val)\n",
    "    loss = ((pred - target_val) ** 2).sum() / len(data_val)\n",
    "    val_loss = loss.data\n",
    "    val_loss_GradAvg.append(round(val_loss.item(), 4))\n",
    "    print(str(round_iter+1) + ' Bob:' + str(bobs_loss) + ' Alice:' + str(alices_loss) + ' train loss:' + str(train_loss) + ' val loss:' + str(val_loss))"
   ]
  },
  {
   "cell_type": "code",
   "execution_count": 2,
   "metadata": {},
   "outputs": [
    {
     "ename": "NameError",
     "evalue": "name 'alices_model' is not defined",
     "output_type": "error",
     "traceback": [
      "\u001b[0;31m---------------------------------------------------------------------------\u001b[0m",
      "\u001b[0;31mNameError\u001b[0m                                 Traceback (most recent call last)",
      "\u001b[0;32m/tmp/ipykernel_1630/145444041.py\u001b[0m in \u001b[0;36m<module>\u001b[0;34m\u001b[0m\n\u001b[0;32m----> 1\u001b[0;31m \u001b[0;32mfor\u001b[0m \u001b[0mparam\u001b[0m \u001b[0;32min\u001b[0m \u001b[0malices_model\u001b[0m\u001b[0;34m.\u001b[0m\u001b[0mparameters\u001b[0m\u001b[0;34m(\u001b[0m\u001b[0;34m)\u001b[0m\u001b[0;34m:\u001b[0m\u001b[0;34m\u001b[0m\u001b[0;34m\u001b[0m\u001b[0m\n\u001b[0m\u001b[1;32m      2\u001b[0m     \u001b[0mprint\u001b[0m\u001b[0;34m(\u001b[0m\u001b[0mparam\u001b[0m\u001b[0;34m,\u001b[0m \u001b[0mparam\u001b[0m\u001b[0;34m.\u001b[0m\u001b[0mgrad\u001b[0m\u001b[0;34m)\u001b[0m\u001b[0;34m\u001b[0m\u001b[0;34m\u001b[0m\u001b[0m\n",
      "\u001b[0;31mNameError\u001b[0m: name 'alices_model' is not defined"
     ]
    }
   ],
   "source": [
    "for param in alices_model.parameters():\n",
    "    print(param, param.grad)"
   ]
  },
  {
   "cell_type": "code",
   "execution_count": 9,
   "metadata": {},
   "outputs": [],
   "source": [
    "bobs_weight_grad_2 = bobs_weight_grad[:982*3000]\n",
    "bobs_bias_grad_2 = bobs_bias_grad[:982*3000]\n",
    "alices_weight_grad_2 = alices_weight_grad[:982*3000]\n",
    "alices_bias_grad_2 = alices_bias_grad[:982*3000]\n"
   ]
  },
  {
   "cell_type": "code",
   "execution_count": 10,
   "metadata": {},
   "outputs": [
    {
     "name": "stderr",
     "output_type": "stream",
     "text": [
      "/opt/conda/envs/pysyft/lib/python3.7/site-packages/syft/frameworks/torch/hook/hook.py:560: UserWarning: To copy construct from a tensor, it is recommended to use sourceTensor.clone().detach() or sourceTensor.clone().detach().requires_grad_(True), rather than torch.tensor(sourceTensor).\n",
      "  current_tensor = hook_self.torch.native_tensor(*args, **kwargs)\n"
     ]
    },
    {
     "data": {
      "text/plain": [
       "0.00031698507"
      ]
     },
     "execution_count": 10,
     "metadata": {},
     "output_type": "execute_result"
    }
   ],
   "source": [
    "weight_norm = []\n",
    "for tensor_2 in bobs_weight_grad_2:\n",
    "    weight_norm.append(np.linalg.norm(th.tensor(tensor_2).numpy().ravel(), 1))\n",
    "np.median(weight_norm)"
   ]
  },
  {
   "cell_type": "code",
   "execution_count": 11,
   "metadata": {},
   "outputs": [
    {
     "data": {
      "text/plain": [
       "0.0003633499"
      ]
     },
     "execution_count": 11,
     "metadata": {},
     "output_type": "execute_result"
    }
   ],
   "source": [
    "weight_norm = []\n",
    "for tensor_2 in bobs_bias_grad_2:\n",
    "    weight_norm.append(np.linalg.norm(th.tensor(tensor_2).numpy().ravel(), 1))\n",
    "np.median(weight_norm)"
   ]
  },
  {
   "cell_type": "code",
   "execution_count": 12,
   "metadata": {},
   "outputs": [
    {
     "data": {
      "text/plain": [
       "0.00031708734"
      ]
     },
     "execution_count": 12,
     "metadata": {},
     "output_type": "execute_result"
    }
   ],
   "source": [
    "weight_norm = []\n",
    "for tensor_2 in alices_weight_grad_2:\n",
    "    weight_norm.append(np.linalg.norm(th.tensor(tensor_2).numpy().ravel(), 1))\n",
    "np.median(weight_norm)"
   ]
  },
  {
   "cell_type": "code",
   "execution_count": 13,
   "metadata": {},
   "outputs": [
    {
     "data": {
      "text/plain": [
       "0.0003528595"
      ]
     },
     "execution_count": 13,
     "metadata": {},
     "output_type": "execute_result"
    },
    {
     "ename": "",
     "evalue": "",
     "output_type": "error",
     "traceback": [
      "\u001b[1;31mThe Kernel crashed while executing code in the the current cell or a previous cell. Please review the code in the cell(s) to identify a possible cause of the failure. Click <a href='https://aka.ms/vscodeJupyterKernelCrash'>here</a> for more info. View Jupyter <a href='command:jupyter.viewOutput'>log</a> for further details."
     ]
    }
   ],
   "source": [
    "weight_norm = []\n",
    "for tensor_2 in alices_bias_grad_2:\n",
    "    weight_norm.append(np.linalg.norm(th.tensor(tensor_2).numpy().ravel(), 1))\n",
    "np.median(weight_norm)"
   ]
  },
  {
   "cell_type": "code",
   "execution_count": null,
   "metadata": {},
   "outputs": [],
   "source": [
    "th.tensor([0.0001495711, 0.00016760826, 0.00014689856, 0.00016474724]) + th.tensor([4.4650624e-05, 5.1498413e-05, 4.4847096e-05, 5.1498413e-05]) + th.tensor([0.0001770143, 0.00019645691, 0.0001748463, 0.00019645691]) + th.tensor([0.00019131065, 0.00021219254, 0.00018900707, 0.00021266937]) + th.tensor([5.2198142e-05, 6.055832e-05, 5.2361345e-05, 5.9843063e-05]) + th.tensor([0.00016261633, 0.00018405914, 0.00016166244, 0.00018167496]) + th.tensor([0.00019012422, 0.00021290779, 0.0001968217, 0.0002193451]) + th.tensor([6.6191686e-05, 7.43866e-05, 6.824422e-05, 7.6293945e-05]) + th.tensor([0.00018854644, 0.00021314621, 0.00019632914, 0.00021982193]) + th.tensor([0.00021137806, 0.00023818016, 0.00021091083, 0.00023651123])"
   ]
  },
  {
   "cell_type": "code",
   "execution_count": null,
   "metadata": {},
   "outputs": [],
   "source": [
    "# single example gradient norm (C value)\n",
    "bobs_weight_C = 0.00014336\n",
    "bobs_bias_C = 0.0001611\n",
    "alices_weight_C = 0.00014419\n",
    "alices_bias_C = 0.00016189"
   ]
  },
  {
   "cell_type": "code",
   "execution_count": null,
   "metadata": {},
   "outputs": [],
   "source": [
    "# total gradient norm (C value, 5000 examples)\n",
    "bobs_weight_C = 0.5076\n",
    "bobs_bias_C = 0.2839\n",
    "alices_weight_C = 0.5551\n",
    "alices_bias_C = 0.2370"
   ]
  },
  {
   "cell_type": "code",
   "execution_count": null,
   "metadata": {},
   "outputs": [],
   "source": [
    "th.tensor([0.5076/5000, 0.2839/5000, 0.5551/5000, 0.2370/5000])"
   ]
  },
  {
   "cell_type": "code",
   "execution_count": null,
   "metadata": {},
   "outputs": [],
   "source": [
    "%matplotlib"
   ]
  },
  {
   "cell_type": "code",
   "execution_count": null,
   "metadata": {},
   "outputs": [],
   "source": [
    "import matplotlib.pyplot as plt\n",
    "\n",
    "#plt.plot(loss_ModAvg, label='ModAvg')\n",
    "plt.plot(loss_GradAvg[:], label='GradAvg')\n",
    "plt.legend(loc='best')\n",
    "plt.xlabel('# communications')\n",
    "plt.ylabel('Loss')\n",
    "plt.show()"
   ]
  },
  {
   "cell_type": "code",
   "execution_count": null,
   "metadata": {},
   "outputs": [],
   "source": [
    "loss_GradAvg[-1]"
   ]
  },
  {
   "cell_type": "code",
   "execution_count": null,
   "metadata": {},
   "outputs": [],
   "source": [
    "import torch as th\n",
    "import syft as sy\n",
    "\n",
    "hook = sy.TorchHook(th)\n",
    "bob = sy.VirtualWorker(hook, id ='bob')\n",
    "alice = sy.VirtualWorker(hook, id ='alice')\n",
    "secure_worker = sy.VirtualWorker(hook, id ='secure_worker')\n",
    "\n",
    "data = th.tensor(\n",
    "    [[0,0],[1,0],[0,1],[1,1]],\n",
    "    dtype = th.float,\n",
    "    requires_grad = True\n",
    ")\n",
    "targets = th.tensor(\n",
    "    [[0],[0],[1],[1]],\n",
    "    dtype = th.float,\n",
    "    requires_grad=True\n",
    ")\n",
    "\n",
    "bob.clear_objects()\n",
    "alice.clear_objects()\n",
    "secure_worker.clear_objects()\n",
    "\n",
    "bob_data = data[:2].send(bob)\n",
    "bob_target = targets[:2].send(bob)\n",
    "\n",
    "alice_data = data[2:].send(alice)\n",
    "alice_target = targets[2:].send(alice)\n",
    "\n",
    "model = th.nn.Linear(2,1)\n",
    "'''\n",
    "bob_model = model.copy().send(bob)\n",
    "bob_optim = th.optim.SGD(params=bob_model.parameters(), lr = 0.1)\n",
    "\n",
    "alice_model = model.copy().send(alice)\n",
    "alice_optim = th.optim.SGD(params=alice_model.parameters(), lr = 0.1)\n",
    "'''\n",
    "\n",
    "for _ in range(10):\n",
    "    bob_model = model.copy().send(bob)\n",
    "    bob_optim = th.optim.SGD(params=bob_model.parameters(), lr = 0.1)\n",
    "\n",
    "    alice_model = model.copy().send(alice)\n",
    "    alice_optim = th.optim.SGD(params=alice_model.parameters(), lr = 0.1)\n",
    "\n",
    "    for _ in range(10):\n",
    "        bob_optim.zero_grad()\n",
    "        bob_pred = bob_model(bob_data)\n",
    "        bob_loss = ((bob_pred - bob_target)**2).sum()\n",
    "        bob_loss.backward()\n",
    "        bob_optim.step()\n",
    "\n",
    "        alice_optim.zero_grad()\n",
    "        alice_pred = alice_model(alice_data)\n",
    "        alice_loss = ((alice_pred - alice_target)**2).sum()\n",
    "        alice_loss.backward()\n",
    "        alice_optim.step()\n",
    "\n",
    "# share model weights \n",
    "    bob_weights = bob_model.weight.data.clone().get().fix_prec().share(bob, alice, secure_worker)\n",
    "    bob_bias = bob_model.bias.data.clone().get().fix_prec().share(bob, alice, secure_worker)\n",
    "\n",
    "    alice_weights = alice_model.weight.data.clone().get().fix_prec().share(bob, alice, secure_worker)\n",
    "    alice_bias = alice_model.bias.data.clone().get().fix_prec().share(bob, alice, secure_worker)\n",
    "\n",
    "# average the weights and update main model\n",
    "    model.weight.data = (bob_weights + alice_weights).get().float_prec() / 2\n",
    "    model.bias.data = (bob_bias + alice_bias).get().float_prec() / 2\n",
    "\n",
    "    model_pred = model(data)\n",
    "    model_loss = ((model_pred - targets)**2).sum()\n",
    "    print(f'Model Loss: {model_loss}')\n",
    "    print(f'bob_loss: {bob_loss.get()} | alice_loss: {alice_loss.get()}')\n",
    "\n"
   ]
  },
  {
   "cell_type": "code",
   "execution_count": null,
   "metadata": {},
   "outputs": [],
   "source": []
  }
 ],
 "metadata": {
  "kernelspec": {
   "display_name": "Python 3 (ipykernel)",
   "language": "python",
   "name": "python3"
  },
  "language_info": {
   "codemirror_mode": {
    "name": "ipython",
    "version": 3
   },
   "file_extension": ".py",
   "mimetype": "text/x-python",
   "name": "python",
   "nbconvert_exporter": "python",
   "pygments_lexer": "ipython3",
   "version": "3.7.16"
  }
 },
 "nbformat": 4,
 "nbformat_minor": 4
}
